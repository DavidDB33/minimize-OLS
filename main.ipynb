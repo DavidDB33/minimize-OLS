{
 "cells": [
  {
   "cell_type": "code",
   "execution_count": null,
   "metadata": {},
   "outputs": [],
   "source": [
    "import numpy as np"
   ]
  },
  {
   "cell_type": "code",
   "execution_count": null,
   "metadata": {},
   "outputs": [],
   "source": [
    "def mse(y, y_pred):\n",
    "    return np.mean((y - y_pred) ** 2)\n",
    "\n",
    "def infer(x, coefficients):\n",
    "    return np.dot(x, coefficients)\n",
    "\n",
    "# Minimize the OLS function using the gradient descent method\n",
    "def minimize_ols(x, y):\n",
    "    # Initialize the coefficients with zeros\n",
    "    coefficients = np.zeros(x.shape[1], np.dtype(np.float64))\n",
    "    coef_hist = [coefficients.copy()]\n",
    "    mse_hist = [mse(y, infer(x, coefficients))]\n",
    "\n",
    "    # Set the learning rate and number of iterations\n",
    "    learning_rate = np.array(0.002, dtype=np.float64)\n",
    "    num_iterations = 100000\n",
    "\n",
    "    # Perform gradient descent\n",
    "    for i in range(num_iterations):\n",
    "        # Calculate the predicted values\n",
    "        y_pred = infer(x, coefficients)\n",
    "        print(f\"Coefs ({coefficients.shape}): {coefficients}\")\n",
    "\n",
    "        # Calculate the error\n",
    "        error = y_pred - y\n",
    "\n",
    "        # Update the coefficients\n",
    "        coef_gradients = np.dot(x.T, error) / len(x)\n",
    "        coef_update = learning_rate * coef_gradients\n",
    "\n",
    "        # Check if coef_update is too small to break the loop\n",
    "        if np.all(coef_update > -np.inf):\n",
    "            print(f\"Update from error:\\n ({coef_update.shape}): {coef_update}\")\n",
    "            coefficients -= coef_update\n",
    "            coef_hist.append(coefficients.copy())\n",
    "            mse_val = mse(y, infer(x, coefficients))\n",
    "            print(f\"MSE: {mse_val}\")\n",
    "            mse_hist.append(mse_val)\n",
    "        else:\n",
    "            print(f\"Update too small\")\n",
    "            break\n",
    "\n",
    "    return coefficients, coef_hist, mse_hist"
   ]
  },
  {
   "cell_type": "code",
   "execution_count": null,
   "metadata": {},
   "outputs": [],
   "source": [
    "# Minimize the OLS function using the analytical equation\n",
    "def minimize_ols2(x, y):\n",
    "    # Calculate the coefficients\n",
    "    coefficients = np.dot(np.linalg.inv(np.dot(x.T, x)), np.dot(x.T, y))\n",
    "    return coefficients\n"
   ]
  },
  {
   "cell_type": "code",
   "execution_count": null,
   "metadata": {},
   "outputs": [],
   "source": [
    "x = np.linspace(0, 1, 100)\n",
    "y = 3 * x - 1 + np.random.normal(loc=0, scale=0.5, size=len(x))\n",
    "X = x[:, None].astype(np.float64)\n",
    "Y = y[:].astype(np.float64)\n",
    "X_ext = np.hstack((np.ones((len(X), 1)), X)) # To include the bias term"
   ]
  },
  {
   "cell_type": "code",
   "execution_count": null,
   "metadata": {},
   "outputs": [],
   "source": [
    "ax, ax_hist, mse_hist = minimize_ols(X_ext, Y)\n",
    "print(\"Params: \", ax)"
   ]
  },
  {
   "cell_type": "code",
   "execution_count": null,
   "metadata": {},
   "outputs": [],
   "source": [
    "ax2 = minimize_ols2(X_ext, Y)\n",
    "print(\"Params: \", ax2)\n",
    "print(\"MSE: \", mse(Y, infer(X_ext, ax2)))"
   ]
  },
  {
   "cell_type": "code",
   "execution_count": null,
   "metadata": {},
   "outputs": [],
   "source": [
    "from matplotlib import pyplot as plt\n",
    "from matplotlib import animation"
   ]
  },
  {
   "cell_type": "code",
   "execution_count": null,
   "metadata": {},
   "outputs": [],
   "source": [
    "# To obtain a smooth animation, we will use a logarithmic scale for the last iterations.\n",
    "# The first values of the log space are too closed so a linear space is used instead, and the last values are logarithmically spaced.\n",
    "# This is equivalent to the np.unique(logspace) function but suppousedly faster.\n",
    "logspace = np.logspace(start=0, stop=np.log10(len(ax_hist)-1), num=1000, dtype=np.int64)\n",
    "logspace_dist1 = np.hstack((False, (logspace[1:] - logspace[:-1]) > 0))\n",
    "idx_logspace_part = logspace[logspace_dist1]\n",
    "last_linear_idx = idx_logspace_part[0]\n",
    "idx_linspace_part = np.arange(last_linear_idx)\n",
    "idx = np.hstack((idx_linspace_part, idx_logspace_part))\n",
    "\n",
    "animation_fig = plt.figure()\n",
    "animation_ax = plt.axes(xlim=(0, 1), ylim=(-5, 5))\n",
    "animation_line, = animation_ax.plot([], [], lw=2)\n",
    "scat = animation_ax.scatter(x, y, c='r', s=10)\n",
    "normal_method_line, = animation_ax.plot(x, ax2[1] * x + ax2[0], lw=2, c='g')\n",
    "animation_bias_text = animation_ax.text(0.02, 0.95, '', transform=animation_ax.transAxes)\n",
    "animation_coef_text = animation_ax.text(0.02, 0.90, '', transform=animation_ax.transAxes)\n",
    "animation_mse_text = animation_ax.text(0.02, 0.85, '', transform=animation_ax.transAxes)\n",
    "animation_it_text = animation_ax.text(0.02, 0.80, '', transform=animation_ax.transAxes)\n",
    "\n",
    "def init():\n",
    "    animation_line.set_data([], [])\n",
    "    animation_bias_text.set_text('')\n",
    "    animation_coef_text.set_text('')\n",
    "    animation_mse_text.set_text('')\n",
    "    animation_it_text.set_text('')\n",
    "    return animation_line, animation_bias_text, animation_coef_text, animation_mse_text\n",
    "\n",
    "def animate(idx_i):\n",
    "    i = idx[idx_i]\n",
    "    animation_line.set_data(x, ax_hist[i][1] * x + ax_hist[i][0])\n",
    "    animation_bias_text.set_text(f'Bias = {ax_hist[i][0]:.2f}')\n",
    "    animation_coef_text.set_text(f'Coefficients = {ax_hist[i][1]:.2f}')\n",
    "    animation_mse_text.set_text(f'MSE = {mse_hist[i]:.4f}')\n",
    "    animation_it_text.set_text(f'Iter = {i}')\n",
    "    return animation_line, animation_bias_text, animation_coef_text, animation_mse_text\n",
    "\n",
    "anim = animation.FuncAnimation(animation_fig, animate, init_func=init,\n",
    "                                 frames=len(idx), interval=100, blit=True)\n",
    "anim.save('animation.gif', writer='imagemagick', fps=30)\n",
    "plt.show()"
   ]
  },
  {
   "cell_type": "code",
   "execution_count": null,
   "metadata": {},
   "outputs": [],
   "source": []
  }
 ],
 "metadata": {
  "kernelspec": {
   "display_name": "venv",
   "language": "python",
   "name": "python3"
  },
  "language_info": {
   "codemirror_mode": {
    "name": "ipython",
    "version": 3
   },
   "file_extension": ".py",
   "mimetype": "text/x-python",
   "name": "python",
   "nbconvert_exporter": "python",
   "pygments_lexer": "ipython3",
   "version": "3.12.1"
  }
 },
 "nbformat": 4,
 "nbformat_minor": 2
}
